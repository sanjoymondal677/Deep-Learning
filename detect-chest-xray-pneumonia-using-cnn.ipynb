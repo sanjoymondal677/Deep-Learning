{
 "cells": [
  {
   "cell_type": "code",
   "execution_count": 1,
   "id": "f36a1d3f",
   "metadata": {
    "_cell_guid": "b1076dfc-b9ad-4769-8c92-a6c4dae69d19",
    "_uuid": "8f2839f25d086af736a60e9eeb907d3b93b6e0e5",
    "execution": {
     "iopub.execute_input": "2022-01-29T17:12:15.101359Z",
     "iopub.status.busy": "2022-01-29T17:12:15.100157Z",
     "iopub.status.idle": "2022-01-29T17:12:15.103583Z",
     "shell.execute_reply": "2022-01-29T17:12:15.102835Z",
     "shell.execute_reply.started": "2022-01-29T16:34:23.413174Z"
    },
    "papermill": {
     "duration": 0.03074,
     "end_time": "2022-01-29T17:12:15.103807",
     "exception": false,
     "start_time": "2022-01-29T17:12:15.073067",
     "status": "completed"
    },
    "tags": []
   },
   "outputs": [],
   "source": [
    "# # This Python 3 environment comes with many helpful analytics libraries installed\n",
    "# # It is defined by the kaggle/python Docker image: https://github.com/kaggle/docker-python\n",
    "# # For example, here's several helpful packages to load\n",
    "\n",
    "# import numpy as np # linear algebra\n",
    "# import pandas as pd # data processing, CSV file I/O (e.g. pd.read_csv)\n",
    "\n",
    "# # Input data files are available in the read-only \"../input/\" directory\n",
    "# # For example, running this (by clicking run or pressing Shift+Enter) will list all files under the input directory\n",
    "\n",
    "# import os\n",
    "# for dirname, _, filenames in os.walk('/kaggle/input'):\n",
    "#     for filename in filenames:\n",
    "#         print(os.path.join(dirname, filename))\n",
    "\n",
    "# You can write up to 20GB to the current directory (/kaggle/working/) that gets preserved as output when you create a version using \"Save & Run All\" \n",
    "# You can also write temporary files to /kaggle/temp/, but they won't be saved outside of the current session"
   ]
  },
  {
   "cell_type": "markdown",
   "id": "4a0797eb",
   "metadata": {
    "papermill": {
     "duration": 0.019428,
     "end_time": "2022-01-29T17:12:15.143125",
     "exception": false,
     "start_time": "2022-01-29T17:12:15.123697",
     "status": "completed"
    },
    "tags": []
   },
   "source": [
    "# Importing the libraries"
   ]
  },
  {
   "cell_type": "code",
   "execution_count": 2,
   "id": "054a29ab",
   "metadata": {
    "execution": {
     "iopub.execute_input": "2022-01-29T17:12:15.190503Z",
     "iopub.status.busy": "2022-01-29T17:12:15.189819Z",
     "iopub.status.idle": "2022-01-29T17:12:21.506996Z",
     "shell.execute_reply": "2022-01-29T17:12:21.507497Z",
     "shell.execute_reply.started": "2022-01-29T16:34:23.432791Z"
    },
    "papermill": {
     "duration": 6.345267,
     "end_time": "2022-01-29T17:12:21.507707",
     "exception": false,
     "start_time": "2022-01-29T17:12:15.162440",
     "status": "completed"
    },
    "tags": []
   },
   "outputs": [],
   "source": [
    "import tensorflow as tf\n",
    "from keras.preprocessing.image import ImageDataGenerator"
   ]
  },
  {
   "cell_type": "markdown",
   "id": "c952dc5a",
   "metadata": {
    "papermill": {
     "duration": 0.019007,
     "end_time": "2022-01-29T17:12:21.546999",
     "exception": false,
     "start_time": "2022-01-29T17:12:21.527992",
     "status": "completed"
    },
    "tags": []
   },
   "source": [
    "# Part 1 - Data Preprocessing"
   ]
  },
  {
   "cell_type": "markdown",
   "id": "20b90a00",
   "metadata": {
    "papermill": {
     "duration": 0.018988,
     "end_time": "2022-01-29T17:12:21.585296",
     "exception": false,
     "start_time": "2022-01-29T17:12:21.566308",
     "status": "completed"
    },
    "tags": []
   },
   "source": [
    "# Preprocessing the Training set"
   ]
  },
  {
   "cell_type": "code",
   "execution_count": 3,
   "id": "884abd80",
   "metadata": {
    "execution": {
     "iopub.execute_input": "2022-01-29T17:12:21.627861Z",
     "iopub.status.busy": "2022-01-29T17:12:21.626818Z",
     "iopub.status.idle": "2022-01-29T17:12:23.541792Z",
     "shell.execute_reply": "2022-01-29T17:12:23.542607Z",
     "shell.execute_reply.started": "2022-01-29T16:34:23.444442Z"
    },
    "papermill": {
     "duration": 1.938325,
     "end_time": "2022-01-29T17:12:23.542841",
     "exception": false,
     "start_time": "2022-01-29T17:12:21.604516",
     "status": "completed"
    },
    "tags": []
   },
   "outputs": [
    {
     "name": "stdout",
     "output_type": "stream",
     "text": [
      "Found 5216 images belonging to 2 classes.\n"
     ]
    }
   ],
   "source": [
    "train_datagen = ImageDataGenerator(rescale = 1./255,\n",
    "                                   shear_range = 0.2,\n",
    "                                   zoom_range = 0.2,\n",
    "                                   horizontal_flip = True)\n",
    "training_set = train_datagen.flow_from_directory(\"../input/chest-xray-pneumonia/chest_xray/train\",\n",
    "                                                 target_size = (64, 64),\n",
    "                                                 batch_size = 32,\n",
    "                                                 class_mode = 'binary')"
   ]
  },
  {
   "cell_type": "markdown",
   "id": "34d4255f",
   "metadata": {
    "papermill": {
     "duration": 0.019666,
     "end_time": "2022-01-29T17:12:23.583742",
     "exception": false,
     "start_time": "2022-01-29T17:12:23.564076",
     "status": "completed"
    },
    "tags": []
   },
   "source": [
    "# Preprocessing the Test set"
   ]
  },
  {
   "cell_type": "code",
   "execution_count": 4,
   "id": "02f85fe2",
   "metadata": {
    "execution": {
     "iopub.execute_input": "2022-01-29T17:12:23.630298Z",
     "iopub.status.busy": "2022-01-29T17:12:23.629654Z",
     "iopub.status.idle": "2022-01-29T17:12:23.737612Z",
     "shell.execute_reply": "2022-01-29T17:12:23.738122Z",
     "shell.execute_reply.started": "2022-01-29T16:34:24.083102Z"
    },
    "papermill": {
     "duration": 0.134685,
     "end_time": "2022-01-29T17:12:23.738308",
     "exception": false,
     "start_time": "2022-01-29T17:12:23.603623",
     "status": "completed"
    },
    "tags": []
   },
   "outputs": [
    {
     "name": "stdout",
     "output_type": "stream",
     "text": [
      "Found 624 images belonging to 2 classes.\n"
     ]
    }
   ],
   "source": [
    "test_datagen = ImageDataGenerator(rescale = 1./255)\n",
    "test_set = test_datagen.flow_from_directory(\"../input/chest-xray-pneumonia/chest_xray/test\",\n",
    "                                            target_size = (64, 64),\n",
    "                                            batch_size = 32,\n",
    "                                            class_mode = 'binary')"
   ]
  },
  {
   "cell_type": "markdown",
   "id": "829b5fbb",
   "metadata": {
    "papermill": {
     "duration": 0.020519,
     "end_time": "2022-01-29T17:12:23.781188",
     "exception": false,
     "start_time": "2022-01-29T17:12:23.760669",
     "status": "completed"
    },
    "tags": []
   },
   "source": [
    "# Part 2 - Building the CNN"
   ]
  },
  {
   "cell_type": "markdown",
   "id": "b707f880",
   "metadata": {
    "papermill": {
     "duration": 0.020341,
     "end_time": "2022-01-29T17:12:23.822284",
     "exception": false,
     "start_time": "2022-01-29T17:12:23.801943",
     "status": "completed"
    },
    "tags": []
   },
   "source": [
    "# Initialising the CNN"
   ]
  },
  {
   "cell_type": "code",
   "execution_count": 5,
   "id": "a5b7604b",
   "metadata": {
    "execution": {
     "iopub.execute_input": "2022-01-29T17:12:23.866882Z",
     "iopub.status.busy": "2022-01-29T17:12:23.866230Z",
     "iopub.status.idle": "2022-01-29T17:12:23.927407Z",
     "shell.execute_reply": "2022-01-29T17:12:23.928036Z",
     "shell.execute_reply.started": "2022-01-29T16:34:24.194825Z"
    },
    "papermill": {
     "duration": 0.085921,
     "end_time": "2022-01-29T17:12:23.928207",
     "exception": false,
     "start_time": "2022-01-29T17:12:23.842286",
     "status": "completed"
    },
    "tags": []
   },
   "outputs": [
    {
     "name": "stderr",
     "output_type": "stream",
     "text": [
      "\n",
      "User settings:\n",
      "\n",
      "   KMP_AFFINITY=granularity=fine,noverbose,compact,1,0\n",
      "   KMP_BLOCKTIME=0\n",
      "   KMP_SETTINGS=1\n",
      "   KMP_WARNINGS=0\n",
      "\n",
      "Effective settings:\n",
      "\n",
      "   KMP_ABORT_DELAY=0\n",
      "   KMP_ADAPTIVE_LOCK_PROPS='1,1024'\n",
      "   KMP_ALIGN_ALLOC=64\n",
      "   KMP_ALL_THREADPRIVATE=128\n",
      "   KMP_ATOMIC_MODE=2\n",
      "   KMP_BLOCKTIME=0\n",
      "   KMP_CPUINFO_FILE: value is not defined\n",
      "   KMP_DETERMINISTIC_REDUCTION=false\n",
      "   KMP_DEVICE_THREAD_LIMIT=2147483647\n",
      "   KMP_DISP_NUM_BUFFERS=7\n",
      "   KMP_DUPLICATE_LIB_OK=false\n",
      "   KMP_ENABLE_TASK_THROTTLING=true\n",
      "   KMP_FORCE_REDUCTION: value is not defined\n",
      "   KMP_FOREIGN_THREADS_THREADPRIVATE=true\n",
      "   KMP_FORKJOIN_BARRIER='2,2'\n",
      "   KMP_FORKJOIN_BARRIER_PATTERN='hyper,hyper'\n",
      "   KMP_GTID_MODE=3\n",
      "   KMP_HANDLE_SIGNALS=false\n",
      "   KMP_HOT_TEAMS_MAX_LEVEL=1\n",
      "   KMP_HOT_TEAMS_MODE=0\n",
      "   KMP_INIT_AT_FORK=true\n",
      "   KMP_LIBRARY=throughput\n",
      "   KMP_LOCK_KIND=queuing\n",
      "   KMP_MALLOC_POOL_INCR=1M\n",
      "   KMP_NUM_LOCKS_IN_BLOCK=1\n",
      "   KMP_PLAIN_BARRIER='2,2'\n",
      "   KMP_PLAIN_BARRIER_PATTERN='hyper,hyper'\n",
      "   KMP_REDUCTION_BARRIER='1,1'\n",
      "   KMP_REDUCTION_BARRIER_PATTERN='hyper,hyper'\n",
      "   KMP_SCHEDULE='static,balanced;guided,iterative'\n",
      "   KMP_SETTINGS=true\n",
      "   KMP_SPIN_BACKOFF_PARAMS='4096,100'\n",
      "   KMP_STACKOFFSET=64\n",
      "   KMP_STACKPAD=0\n",
      "   KMP_STACKSIZE=8M\n",
      "   KMP_STORAGE_MAP=false\n",
      "   KMP_TASKING=2\n",
      "   KMP_TASKLOOP_MIN_TASKS=0\n",
      "   KMP_TASK_STEALING_CONSTRAINT=1\n",
      "   KMP_TEAMS_THREAD_LIMIT=4\n",
      "   KMP_TOPOLOGY_METHOD=all\n",
      "   KMP_USE_YIELD=1\n",
      "   KMP_VERSION=false\n",
      "   KMP_WARNINGS=false\n",
      "   OMP_AFFINITY_FORMAT='OMP: pid %P tid %i thread %n bound to OS proc set {%A}'\n",
      "   OMP_ALLOCATOR=omp_default_mem_alloc\n",
      "   OMP_CANCELLATION=false\n",
      "   OMP_DEFAULT_DEVICE=0\n",
      "   OMP_DISPLAY_AFFINITY=false\n",
      "   OMP_DISPLAY_ENV=false\n",
      "   OMP_DYNAMIC=false\n",
      "   OMP_MAX_ACTIVE_LEVELS=1\n",
      "   OMP_MAX_TASK_PRIORITY=0\n",
      "   OMP_NESTED: deprecated; max-active-levels-var=1\n",
      "   OMP_NUM_THREADS: value is not defined\n",
      "   OMP_PLACES: value is not defined\n",
      "   OMP_PROC_BIND='intel'\n",
      "   OMP_SCHEDULE='static'\n",
      "   OMP_STACKSIZE=8M\n",
      "   OMP_TARGET_OFFLOAD=DEFAULT\n",
      "   OMP_THREAD_LIMIT=2147483647\n",
      "   OMP_WAIT_POLICY=PASSIVE\n",
      "   KMP_AFFINITY='noverbose,warnings,respect,granularity=fine,compact,1,0'\n",
      "\n",
      "2022-01-29 17:12:23.903444: I tensorflow/core/common_runtime/process_util.cc:146] Creating new thread pool with default inter op setting: 2. Tune using inter_op_parallelism_threads for best performance.\n"
     ]
    }
   ],
   "source": [
    "cnn = tf.keras.models.Sequential()"
   ]
  },
  {
   "cell_type": "markdown",
   "id": "78360351",
   "metadata": {
    "papermill": {
     "duration": 0.020358,
     "end_time": "2022-01-29T17:12:23.969691",
     "exception": false,
     "start_time": "2022-01-29T17:12:23.949333",
     "status": "completed"
    },
    "tags": []
   },
   "source": [
    "# Step 1 - Convolution"
   ]
  },
  {
   "cell_type": "code",
   "execution_count": 6,
   "id": "160f2068",
   "metadata": {
    "execution": {
     "iopub.execute_input": "2022-01-29T17:12:24.020494Z",
     "iopub.status.busy": "2022-01-29T17:12:24.019838Z",
     "iopub.status.idle": "2022-01-29T17:12:24.074946Z",
     "shell.execute_reply": "2022-01-29T17:12:24.075477Z",
     "shell.execute_reply.started": "2022-01-29T16:34:24.205046Z"
    },
    "papermill": {
     "duration": 0.084854,
     "end_time": "2022-01-29T17:12:24.075668",
     "exception": false,
     "start_time": "2022-01-29T17:12:23.990814",
     "status": "completed"
    },
    "tags": []
   },
   "outputs": [],
   "source": [
    "cnn.add(tf.keras.layers.Conv2D(filters=32, kernel_size=3, activation='relu', input_shape=[64, 64, 3]))"
   ]
  },
  {
   "cell_type": "markdown",
   "id": "7b5cc0a0",
   "metadata": {
    "papermill": {
     "duration": 0.019988,
     "end_time": "2022-01-29T17:12:24.115952",
     "exception": false,
     "start_time": "2022-01-29T17:12:24.095964",
     "status": "completed"
    },
    "tags": []
   },
   "source": [
    "# Step 2 - Pooling"
   ]
  },
  {
   "cell_type": "code",
   "execution_count": 7,
   "id": "6f35a42e",
   "metadata": {
    "execution": {
     "iopub.execute_input": "2022-01-29T17:12:24.161271Z",
     "iopub.status.busy": "2022-01-29T17:12:24.160251Z",
     "iopub.status.idle": "2022-01-29T17:12:24.168099Z",
     "shell.execute_reply": "2022-01-29T17:12:24.168671Z",
     "shell.execute_reply.started": "2022-01-29T16:34:24.231099Z"
    },
    "papermill": {
     "duration": 0.032429,
     "end_time": "2022-01-29T17:12:24.168847",
     "exception": false,
     "start_time": "2022-01-29T17:12:24.136418",
     "status": "completed"
    },
    "tags": []
   },
   "outputs": [],
   "source": [
    "cnn.add(tf.keras.layers.MaxPool2D(pool_size=2, strides=2))"
   ]
  },
  {
   "cell_type": "markdown",
   "id": "f295a704",
   "metadata": {
    "papermill": {
     "duration": 0.020795,
     "end_time": "2022-01-29T17:12:24.210305",
     "exception": false,
     "start_time": "2022-01-29T17:12:24.189510",
     "status": "completed"
    },
    "tags": []
   },
   "source": [
    "# Adding a second convolutional layer"
   ]
  },
  {
   "cell_type": "code",
   "execution_count": 8,
   "id": "4f3481c5",
   "metadata": {
    "execution": {
     "iopub.execute_input": "2022-01-29T17:12:24.257387Z",
     "iopub.status.busy": "2022-01-29T17:12:24.256339Z",
     "iopub.status.idle": "2022-01-29T17:12:24.274345Z",
     "shell.execute_reply": "2022-01-29T17:12:24.274916Z",
     "shell.execute_reply.started": "2022-01-29T16:34:24.245066Z"
    },
    "papermill": {
     "duration": 0.042593,
     "end_time": "2022-01-29T17:12:24.275094",
     "exception": false,
     "start_time": "2022-01-29T17:12:24.232501",
     "status": "completed"
    },
    "tags": []
   },
   "outputs": [],
   "source": [
    "cnn.add(tf.keras.layers.Conv2D(filters=32, kernel_size=3, activation='relu'))\n",
    "cnn.add(tf.keras.layers.MaxPool2D(pool_size=2, strides=2))"
   ]
  },
  {
   "cell_type": "markdown",
   "id": "fb131ded",
   "metadata": {
    "papermill": {
     "duration": 0.020465,
     "end_time": "2022-01-29T17:12:24.316389",
     "exception": false,
     "start_time": "2022-01-29T17:12:24.295924",
     "status": "completed"
    },
    "tags": []
   },
   "source": [
    "# Step 3 - Flattening"
   ]
  },
  {
   "cell_type": "code",
   "execution_count": 9,
   "id": "5bc1fffc",
   "metadata": {
    "execution": {
     "iopub.execute_input": "2022-01-29T17:12:24.364373Z",
     "iopub.status.busy": "2022-01-29T17:12:24.363725Z",
     "iopub.status.idle": "2022-01-29T17:12:24.370656Z",
     "shell.execute_reply": "2022-01-29T17:12:24.371135Z",
     "shell.execute_reply.started": "2022-01-29T16:34:24.266181Z"
    },
    "papermill": {
     "duration": 0.034208,
     "end_time": "2022-01-29T17:12:24.371324",
     "exception": false,
     "start_time": "2022-01-29T17:12:24.337116",
     "status": "completed"
    },
    "tags": []
   },
   "outputs": [],
   "source": [
    "cnn.add(tf.keras.layers.Flatten())"
   ]
  },
  {
   "cell_type": "markdown",
   "id": "6f54f596",
   "metadata": {
    "papermill": {
     "duration": 0.02047,
     "end_time": "2022-01-29T17:12:24.412702",
     "exception": false,
     "start_time": "2022-01-29T17:12:24.392232",
     "status": "completed"
    },
    "tags": []
   },
   "source": [
    "# Step 4 - Full Connection"
   ]
  },
  {
   "cell_type": "code",
   "execution_count": 10,
   "id": "f0d3181b",
   "metadata": {
    "execution": {
     "iopub.execute_input": "2022-01-29T17:12:24.460876Z",
     "iopub.status.busy": "2022-01-29T17:12:24.459835Z",
     "iopub.status.idle": "2022-01-29T17:12:24.478858Z",
     "shell.execute_reply": "2022-01-29T17:12:24.479364Z",
     "shell.execute_reply.started": "2022-01-29T16:34:24.278353Z"
    },
    "papermill": {
     "duration": 0.046301,
     "end_time": "2022-01-29T17:12:24.479585",
     "exception": false,
     "start_time": "2022-01-29T17:12:24.433284",
     "status": "completed"
    },
    "tags": []
   },
   "outputs": [],
   "source": [
    "cnn.add(tf.keras.layers.Dense(units=128, activation='relu'))"
   ]
  },
  {
   "cell_type": "markdown",
   "id": "59b4bd6d",
   "metadata": {
    "papermill": {
     "duration": 0.020111,
     "end_time": "2022-01-29T17:12:24.520193",
     "exception": false,
     "start_time": "2022-01-29T17:12:24.500082",
     "status": "completed"
    },
    "tags": []
   },
   "source": [
    "# Step 5 - Output Layer"
   ]
  },
  {
   "cell_type": "code",
   "execution_count": 11,
   "id": "915f8be3",
   "metadata": {
    "execution": {
     "iopub.execute_input": "2022-01-29T17:12:24.569305Z",
     "iopub.status.busy": "2022-01-29T17:12:24.568586Z",
     "iopub.status.idle": "2022-01-29T17:12:24.578587Z",
     "shell.execute_reply": "2022-01-29T17:12:24.579123Z",
     "shell.execute_reply.started": "2022-01-29T16:34:24.301748Z"
    },
    "papermill": {
     "duration": 0.038201,
     "end_time": "2022-01-29T17:12:24.579304",
     "exception": false,
     "start_time": "2022-01-29T17:12:24.541103",
     "status": "completed"
    },
    "tags": []
   },
   "outputs": [],
   "source": [
    "cnn.add(tf.keras.layers.Dense(units=1, activation='sigmoid'))"
   ]
  },
  {
   "cell_type": "markdown",
   "id": "654ed987",
   "metadata": {
    "papermill": {
     "duration": 0.020418,
     "end_time": "2022-01-29T17:12:24.620862",
     "exception": false,
     "start_time": "2022-01-29T17:12:24.600444",
     "status": "completed"
    },
    "tags": []
   },
   "source": [
    "# Part 3 - Training the CNN"
   ]
  },
  {
   "cell_type": "markdown",
   "id": "f4e3b52b",
   "metadata": {
    "papermill": {
     "duration": 0.020072,
     "end_time": "2022-01-29T17:12:24.661454",
     "exception": false,
     "start_time": "2022-01-29T17:12:24.641382",
     "status": "completed"
    },
    "tags": []
   },
   "source": [
    "# Compiling the CNN"
   ]
  },
  {
   "cell_type": "code",
   "execution_count": 12,
   "id": "1c3d1475",
   "metadata": {
    "execution": {
     "iopub.execute_input": "2022-01-29T17:12:24.705629Z",
     "iopub.status.busy": "2022-01-29T17:12:24.704948Z",
     "iopub.status.idle": "2022-01-29T17:12:24.717659Z",
     "shell.execute_reply": "2022-01-29T17:12:24.718311Z",
     "shell.execute_reply.started": "2022-01-29T16:34:24.316952Z"
    },
    "papermill": {
     "duration": 0.03672,
     "end_time": "2022-01-29T17:12:24.718494",
     "exception": false,
     "start_time": "2022-01-29T17:12:24.681774",
     "status": "completed"
    },
    "tags": []
   },
   "outputs": [],
   "source": [
    "cnn.compile(optimizer = 'adam', loss = 'binary_crossentropy', metrics = ['accuracy'])"
   ]
  },
  {
   "cell_type": "markdown",
   "id": "51f2c5cb",
   "metadata": {
    "papermill": {
     "duration": 0.020791,
     "end_time": "2022-01-29T17:12:24.759797",
     "exception": false,
     "start_time": "2022-01-29T17:12:24.739006",
     "status": "completed"
    },
    "tags": []
   },
   "source": [
    "# Training the CNN on the Training set and evaluating it on the Test set"
   ]
  },
  {
   "cell_type": "code",
   "execution_count": 13,
   "id": "3bc72aaf",
   "metadata": {
    "execution": {
     "iopub.execute_input": "2022-01-29T17:12:24.805390Z",
     "iopub.status.busy": "2022-01-29T17:12:24.804694Z",
     "iopub.status.idle": "2022-01-29T17:46:40.091098Z",
     "shell.execute_reply": "2022-01-29T17:46:40.091732Z",
     "shell.execute_reply.started": "2022-01-29T16:34:24.329738Z"
    },
    "papermill": {
     "duration": 2055.310857,
     "end_time": "2022-01-29T17:46:40.091951",
     "exception": false,
     "start_time": "2022-01-29T17:12:24.781094",
     "status": "completed"
    },
    "tags": []
   },
   "outputs": [
    {
     "name": "stderr",
     "output_type": "stream",
     "text": [
      "2022-01-29 17:12:25.593790: I tensorflow/compiler/mlir/mlir_graph_optimization_pass.cc:185] None of the MLIR Optimization Passes are enabled (registered 2)\n"
     ]
    },
    {
     "name": "stdout",
     "output_type": "stream",
     "text": [
      "Epoch 1/25\n",
      "163/163 [==============================] - 119s 726ms/step - loss: 0.3699 - accuracy: 0.8351 - val_loss: 0.4104 - val_accuracy: 0.8077\n",
      "Epoch 2/25\n",
      "163/163 [==============================] - 72s 444ms/step - loss: 0.2408 - accuracy: 0.9022 - val_loss: 0.5072 - val_accuracy: 0.7340\n",
      "Epoch 3/25\n",
      "163/163 [==============================] - 72s 442ms/step - loss: 0.1966 - accuracy: 0.9250 - val_loss: 0.3370 - val_accuracy: 0.8654\n",
      "Epoch 4/25\n",
      "163/163 [==============================] - 73s 446ms/step - loss: 0.1931 - accuracy: 0.9224 - val_loss: 0.3417 - val_accuracy: 0.8846\n",
      "Epoch 5/25\n",
      "163/163 [==============================] - 72s 444ms/step - loss: 0.1858 - accuracy: 0.9285 - val_loss: 0.3224 - val_accuracy: 0.8734\n",
      "Epoch 6/25\n",
      "163/163 [==============================] - 73s 449ms/step - loss: 0.1714 - accuracy: 0.9363 - val_loss: 0.2921 - val_accuracy: 0.8830\n",
      "Epoch 7/25\n",
      "163/163 [==============================] - 75s 460ms/step - loss: 0.1746 - accuracy: 0.9275 - val_loss: 0.3711 - val_accuracy: 0.8590\n",
      "Epoch 8/25\n",
      "163/163 [==============================] - 75s 458ms/step - loss: 0.1629 - accuracy: 0.9363 - val_loss: 0.3017 - val_accuracy: 0.8878\n",
      "Epoch 9/25\n",
      "163/163 [==============================] - 73s 447ms/step - loss: 0.1466 - accuracy: 0.9438 - val_loss: 0.4778 - val_accuracy: 0.8397\n",
      "Epoch 10/25\n",
      "163/163 [==============================] - 73s 449ms/step - loss: 0.1479 - accuracy: 0.9429 - val_loss: 0.4696 - val_accuracy: 0.8429\n",
      "Epoch 11/25\n",
      "163/163 [==============================] - 73s 446ms/step - loss: 0.1440 - accuracy: 0.9450 - val_loss: 0.2771 - val_accuracy: 0.9119\n",
      "Epoch 12/25\n",
      "163/163 [==============================] - 73s 446ms/step - loss: 0.1418 - accuracy: 0.9446 - val_loss: 0.2506 - val_accuracy: 0.9103\n",
      "Epoch 13/25\n",
      "163/163 [==============================] - 73s 447ms/step - loss: 0.1318 - accuracy: 0.9482 - val_loss: 0.3666 - val_accuracy: 0.8782\n",
      "Epoch 14/25\n",
      "163/163 [==============================] - 73s 448ms/step - loss: 0.1408 - accuracy: 0.9436 - val_loss: 0.2830 - val_accuracy: 0.9054\n",
      "Epoch 15/25\n",
      "163/163 [==============================] - 77s 472ms/step - loss: 0.1209 - accuracy: 0.9546 - val_loss: 0.3642 - val_accuracy: 0.8990\n",
      "Epoch 16/25\n",
      "163/163 [==============================] - 76s 468ms/step - loss: 0.1217 - accuracy: 0.9532 - val_loss: 0.5227 - val_accuracy: 0.8526\n",
      "Epoch 17/25\n",
      "163/163 [==============================] - 73s 446ms/step - loss: 0.1234 - accuracy: 0.9530 - val_loss: 0.3501 - val_accuracy: 0.8942\n",
      "Epoch 18/25\n",
      "163/163 [==============================] - 73s 448ms/step - loss: 0.1121 - accuracy: 0.9553 - val_loss: 0.3420 - val_accuracy: 0.9006\n",
      "Epoch 19/25\n",
      "163/163 [==============================] - 73s 446ms/step - loss: 0.1273 - accuracy: 0.9513 - val_loss: 0.3184 - val_accuracy: 0.8990\n",
      "Epoch 20/25\n",
      "163/163 [==============================] - 73s 449ms/step - loss: 0.1126 - accuracy: 0.9557 - val_loss: 0.4942 - val_accuracy: 0.8397\n",
      "Epoch 21/25\n",
      "163/163 [==============================] - 73s 445ms/step - loss: 0.1163 - accuracy: 0.9542 - val_loss: 0.3413 - val_accuracy: 0.8894\n",
      "Epoch 22/25\n",
      "163/163 [==============================] - 73s 449ms/step - loss: 0.1131 - accuracy: 0.9592 - val_loss: 0.3411 - val_accuracy: 0.9006\n",
      "Epoch 23/25\n",
      "163/163 [==============================] - 73s 448ms/step - loss: 0.1141 - accuracy: 0.9565 - val_loss: 0.5428 - val_accuracy: 0.8221\n",
      "Epoch 24/25\n",
      "163/163 [==============================] - 73s 445ms/step - loss: 0.1174 - accuracy: 0.9578 - val_loss: 0.3089 - val_accuracy: 0.9119\n",
      "Epoch 25/25\n",
      "163/163 [==============================] - 73s 451ms/step - loss: 0.0917 - accuracy: 0.9649 - val_loss: 0.3626 - val_accuracy: 0.8894\n"
     ]
    },
    {
     "data": {
      "text/plain": [
       "<keras.callbacks.History at 0x7f7cb989d890>"
      ]
     },
     "execution_count": 13,
     "metadata": {},
     "output_type": "execute_result"
    }
   ],
   "source": [
    "cnn.fit(x = training_set, validation_data = test_set, epochs = 25)"
   ]
  },
  {
   "cell_type": "markdown",
   "id": "e7445c79",
   "metadata": {
    "papermill": {
     "duration": 1.404176,
     "end_time": "2022-01-29T17:46:42.815449",
     "exception": false,
     "start_time": "2022-01-29T17:46:41.411273",
     "status": "completed"
    },
    "tags": []
   },
   "source": [
    "# Get the Test data accuracy 91% while train data set accuracy: 96%."
   ]
  },
  {
   "cell_type": "code",
   "execution_count": null,
   "id": "cabca9ed",
   "metadata": {
    "papermill": {
     "duration": 1.314627,
     "end_time": "2022-01-29T17:46:45.457912",
     "exception": false,
     "start_time": "2022-01-29T17:46:44.143285",
     "status": "completed"
    },
    "tags": []
   },
   "outputs": [],
   "source": []
  }
 ],
 "metadata": {
  "kernelspec": {
   "display_name": "Python 3",
   "language": "python",
   "name": "python3"
  },
  "language_info": {
   "codemirror_mode": {
    "name": "ipython",
    "version": 3
   },
   "file_extension": ".py",
   "mimetype": "text/x-python",
   "name": "python",
   "nbconvert_exporter": "python",
   "pygments_lexer": "ipython3",
   "version": "3.7.12"
  },
  "papermill": {
   "default_parameters": {},
   "duration": 2085.339643,
   "end_time": "2022-01-29T17:46:50.086087",
   "environment_variables": {},
   "exception": null,
   "input_path": "__notebook__.ipynb",
   "output_path": "__notebook__.ipynb",
   "parameters": {},
   "start_time": "2022-01-29T17:12:04.746444",
   "version": "2.3.3"
  }
 },
 "nbformat": 4,
 "nbformat_minor": 5
}
